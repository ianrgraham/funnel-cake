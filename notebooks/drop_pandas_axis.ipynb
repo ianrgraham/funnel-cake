{
 "cells": [
  {
   "cell_type": "code",
   "execution_count": 1,
   "metadata": {},
   "outputs": [],
   "source": [
    "import pandas as pd\n",
    "import numpy as np"
   ]
  },
  {
   "cell_type": "code",
   "execution_count": 15,
   "metadata": {},
   "outputs": [],
   "source": [
    "data = []\n",
    "for i in range(1000):\n",
    "    if i % 10 == 0:\n",
    "        data.append(np.random.rand(10,10))\n",
    "    else:\n",
    "        data.append(None)\n",
    "series = pd.Series(data)\n",
    "series.to_pickle(\"test1.pkl\")\n",
    "data = []\n",
    "for i in range(1000):\n",
    "    if i % 10 == 0:\n",
    "        data.append(np.random.rand(10,10))\n",
    "    else:\n",
    "        data.append(pd.NA)\n",
    "series = pd.Series(data)\n",
    "series.to_pickle(\"test2.pkl\")\n",
    "data = []\n",
    "for i in range(1000):\n",
    "    data.append(np.random.rand(10,10))\n",
    "series = pd.Series(data)\n",
    "series[series.index % 10 != 0] = None\n",
    "series.to_pickle(\"test3.pkl\")"
   ]
  },
  {
   "cell_type": "code",
   "execution_count": 16,
   "metadata": {},
   "outputs": [
    {
     "name": "stdout",
     "output_type": "stream",
     "text": [
      "total 2.0M\n",
      "-rw-rw-r-- 1 ian ian 2.3K Nov 24 20:54 drop_pandas_axis.ipynb\n",
      "-rw-rw-r-- 1 ian ian 1.8M Nov 23 23:12 prelim_plots.ipynb\n",
      "-rw-rw-r-- 1 ian ian  83K Nov 24 20:54 test1.pkl\n",
      "-rw-rw-r-- 1 ian ian  84K Nov 24 20:54 test2.pkl\n",
      "-rw-rw-r-- 1 ian ian  83K Nov 24 20:54 test3.pkl\n"
     ]
    }
   ],
   "source": [
    "ls -lh"
   ]
  },
  {
   "cell_type": "code",
   "execution_count": null,
   "metadata": {},
   "outputs": [],
   "source": []
  }
 ],
 "metadata": {
  "interpreter": {
   "hash": "2dd2a7e10af558c579ef7b673b1abcf071ceb7a6eb43baa88ad32f4d26834d59"
  },
  "kernelspec": {
   "display_name": "Python 3.8.12 64-bit (conda)",
   "language": "python",
   "name": "python3"
  },
  "language_info": {
   "codemirror_mode": {
    "name": "ipython",
    "version": 3
   },
   "file_extension": ".py",
   "mimetype": "text/x-python",
   "name": "python",
   "nbconvert_exporter": "python",
   "pygments_lexer": "ipython3",
   "version": "3.8.12"
  },
  "orig_nbformat": 4
 },
 "nbformat": 4,
 "nbformat_minor": 2
}
